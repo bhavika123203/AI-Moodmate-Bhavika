{
 "cells": [
  {
   "cell_type": "code",
   "execution_count": 20,
   "id": "387f4f71",
   "metadata": {},
   "outputs": [],
   "source": [
    "import pandas as pd\n",
    "import numpy as np\n",
    "from sklearn.metrics.pairwise import cosine_similarity\n",
    "from sklearn.feature_extraction.text import TfidfVectorizer\n"
   ]
  },
  {
   "cell_type": "code",
   "execution_count": 2,
   "id": "b5048fa9",
   "metadata": {},
   "outputs": [
    {
     "name": "stdout",
     "output_type": "stream",
     "text": [
      "Music dataset loaded!\n",
      "Shape: (50683, 5)\n",
      "Columns: ['track_id', 'name', 'artist', 'genre', 'year']\n"
     ]
    },
    {
     "data": {
      "text/html": [
       "<div>\n",
       "<style scoped>\n",
       "    .dataframe tbody tr th:only-of-type {\n",
       "        vertical-align: middle;\n",
       "    }\n",
       "\n",
       "    .dataframe tbody tr th {\n",
       "        vertical-align: top;\n",
       "    }\n",
       "\n",
       "    .dataframe thead th {\n",
       "        text-align: right;\n",
       "    }\n",
       "</style>\n",
       "<table border=\"1\" class=\"dataframe\">\n",
       "  <thead>\n",
       "    <tr style=\"text-align: right;\">\n",
       "      <th></th>\n",
       "      <th>track_id</th>\n",
       "      <th>name</th>\n",
       "      <th>artist</th>\n",
       "      <th>genre</th>\n",
       "      <th>year</th>\n",
       "    </tr>\n",
       "  </thead>\n",
       "  <tbody>\n",
       "    <tr>\n",
       "      <th>0</th>\n",
       "      <td>TRIOREW128F424EAF0</td>\n",
       "      <td>Mr. Brightside</td>\n",
       "      <td>The Killers</td>\n",
       "      <td>NaN</td>\n",
       "      <td>2004</td>\n",
       "    </tr>\n",
       "    <tr>\n",
       "      <th>1</th>\n",
       "      <td>TRRIVDJ128F429B0E8</td>\n",
       "      <td>Wonderwall</td>\n",
       "      <td>Oasis</td>\n",
       "      <td>NaN</td>\n",
       "      <td>2006</td>\n",
       "    </tr>\n",
       "    <tr>\n",
       "      <th>2</th>\n",
       "      <td>TROUVHL128F426C441</td>\n",
       "      <td>Come as You Are</td>\n",
       "      <td>Nirvana</td>\n",
       "      <td>RnB</td>\n",
       "      <td>1991</td>\n",
       "    </tr>\n",
       "    <tr>\n",
       "      <th>3</th>\n",
       "      <td>TRUEIND128F93038C4</td>\n",
       "      <td>Take Me Out</td>\n",
       "      <td>Franz Ferdinand</td>\n",
       "      <td>NaN</td>\n",
       "      <td>2004</td>\n",
       "    </tr>\n",
       "    <tr>\n",
       "      <th>4</th>\n",
       "      <td>TRLNZBD128F935E4D8</td>\n",
       "      <td>Creep</td>\n",
       "      <td>Radiohead</td>\n",
       "      <td>RnB</td>\n",
       "      <td>2008</td>\n",
       "    </tr>\n",
       "  </tbody>\n",
       "</table>\n",
       "</div>"
      ],
      "text/plain": [
       "             track_id             name           artist genre  year\n",
       "0  TRIOREW128F424EAF0   Mr. Brightside      The Killers   NaN  2004\n",
       "1  TRRIVDJ128F429B0E8       Wonderwall            Oasis   NaN  2006\n",
       "2  TROUVHL128F426C441  Come as You Are          Nirvana   RnB  1991\n",
       "3  TRUEIND128F93038C4      Take Me Out  Franz Ferdinand   NaN  2004\n",
       "4  TRLNZBD128F935E4D8            Creep        Radiohead   RnB  2008"
      ]
     },
     "execution_count": 2,
     "metadata": {},
     "output_type": "execute_result"
    }
   ],
   "source": [
    "music_df = pd.read_csv(\"data/music_features.csv\")\n",
    "print(\"Music dataset loaded!\")\n",
    "print(f\"Shape: {music_df.shape}\")\n",
    "print(\"Columns:\", music_df.columns.tolist())\n",
    "music_df.head()"
   ]
  },
  {
   "cell_type": "code",
   "execution_count": 7,
   "id": "e9d9b122",
   "metadata": {},
   "outputs": [
    {
     "name": "stdout",
     "output_type": "stream",
     "text": [
      "Emotion predictions loaded: (7178,)\n",
      "Sample predictions: [0 0 0 0 0 0 0 0 0 0]\n"
     ]
    }
   ],
   "source": [
    "emotion_predictions = np.load(\"data/emotion_predictions.npy\")\n",
    "print(f\"Emotion predictions loaded: {emotion_predictions.shape}\")\n",
    "print(\"Sample predictions:\", emotion_predictions[:10])"
   ]
  },
  {
   "cell_type": "code",
   "execution_count": 34,
   "id": "a3c56424",
   "metadata": {},
   "outputs": [
    {
     "name": "stdout",
     "output_type": "stream",
     "text": [
      "Simple emotion to music mapping defined!\n"
     ]
    }
   ],
   "source": [
    "emotion_to_music = {\n",
    "    0: [\"Rock\", \"Metal\"],           # Angry\n",
    "    1: [\"Pop\", \"Dance\"],            # Happy  \n",
    "    2: [\"RnB\", \"Blues\"],            # Sad\n",
    "    3: [\"Jazz\", \"Classical\"],       # Neutral\n",
    "    4: [\"Ambient\", \"Classical\"],    # Fear\n",
    "    5: [\"Electronic\", \"Dance\"],     # Surprise\n",
    "    6: [\"Alternative\", \"Rock\"]      # Disgust\n",
    "}\n",
    "\n",
    "emotion_names = ['Angry', 'Disgust', 'Fear', 'Happy', 'Sad', 'Surprise', 'Neutral']\n",
    "print(\"Simple emotion to music mapping defined!\")"
   ]
  },
  {
   "cell_type": "code",
   "execution_count": 35,
   "id": "3524914d",
   "metadata": {},
   "outputs": [
    {
     "name": "stdout",
     "output_type": "stream",
     "text": [
      "Simple Music Recommender class defined!\n"
     ]
    }
   ],
   "source": [
    "class SimpleMusicRecommender:\n",
    "    def __init__(self, music_data, emotion_mapping):\n",
    "        self.music_data = music_data\n",
    "        self.emotion_mapping = emotion_mapping\n",
    "        \n",
    "    def recommend_for_emotion(self, emotion_index, n_recommendations=5):\n",
    "        emotion_name = emotion_names[emotion_index]\n",
    "        print(f\"Emotion: {emotion_name}\")\n",
    "        \n",
    "        # SIMPLE: Just return first n songs from dataset\n",
    "        recommendations = self.music_data.head(n_recommendations).to_dict('records')\n",
    "        \n",
    "        print(f\"Selected {len(recommendations)} songs\")\n",
    "        return recommendations\n",
    "\n",
    "print(\"Simple Music Recommender class defined!\")"
   ]
  },
  {
   "cell_type": "code",
   "execution_count": 25,
   "id": "0e84b7d2",
   "metadata": {},
   "outputs": [
    {
     "name": "stdout",
     "output_type": "stream",
     "text": [
      "✅ Music Recommender initialized!\n"
     ]
    }
   ],
   "source": [
    "recommender = MusicRecommender(music_df, emotion_to_music)\n",
    "print(\"✅ Music Recommender initialized!\")"
   ]
  },
  {
   "cell_type": "code",
   "execution_count": 36,
   "id": "79521eb1",
   "metadata": {},
   "outputs": [
    {
     "name": "stdout",
     "output_type": "stream",
     "text": [
      "SIMPLE RECOMMENDATIONS TEST:\n",
      "========================================\n",
      "Emotion: Angry\n",
      "Target music tags: ['sad', 'acoustic', 'calm', 'melancholic', 'piano']\n",
      "No genre matches found, using random songs\n",
      "\n",
      "Songs for Angry:\n",
      "1. Mr. Brightside - The Killers\n",
      "2. Wonderwall - Oasis\n",
      "3. Come as You Are - Nirvana\n",
      "----------------------------------------\n",
      "Emotion: Disgust\n",
      "Target music tags: ['happy', 'pop', 'dance', 'upbeat', 'electronic']\n",
      "\n",
      "Songs for Disgust:\n",
      "1. Under the Bridge - Red Hot Chili Peppers\n",
      "2. Losing My Religion - R.E.M.\n",
      "3. Don't Stop Me Now - Queen\n",
      "----------------------------------------\n",
      "Emotion: Fear\n",
      "Target music tags: ['angry', 'rock', 'metal', 'intense', 'powerful']\n",
      "\n",
      "Songs for Fear:\n",
      "1. The Scientist - Coldplay\n",
      "2. Where Is My Mind? - Pixies\n",
      "3. Basket Case - Green Day\n",
      "----------------------------------------\n"
     ]
    }
   ],
   "source": [
    "print(\"SIMPLE RECOMMENDATIONS TEST:\")\n",
    "print(\"=\" * 40)\n",
    "\n",
    "for i in range(3):  # Test first 3 emotions\n",
    "    recommendations = recommender.recommend_for_emotion(i, 3)\n",
    "    \n",
    "    print(f\"\\nSongs for {emotion_names[i]}:\")\n",
    "    for j, song in enumerate(recommendations, 1):\n",
    "        title = song.get('name', 'Unknown Title')\n",
    "        artist = song.get('artist', 'Unknown Artist')\n",
    "        \n",
    "        print(f\"{j}. {title} - {artist}\")\n",
    "    print(\"-\" * 40)"
   ]
  },
  {
   "cell_type": "code",
   "execution_count": 37,
   "id": "2318267f",
   "metadata": {},
   "outputs": [
    {
     "name": "stdout",
     "output_type": "stream",
     "text": [
      "TESTING MORE EMOTIONS:\n",
      "========================================\n",
      "Emotion: Happy\n",
      "Target music tags: ['neutral', 'instrumental', 'chill', 'ambient', 'lofi']\n",
      "No genre matches found, using random songs\n",
      "\n",
      "Songs for Happy:\n",
      "   1. Mr. Brightside - The Killers\n",
      "   2. Wonderwall - Oasis\n",
      "   3. Come as You Are - Nirvana\n",
      "----------------------------------------\n",
      "Emotion: Sad\n",
      "Target music tags: ['fear', 'ambient', 'classical', 'soundtrack', 'mysterious']\n",
      "No genre matches found, using random songs\n",
      "\n",
      "Songs for Sad:\n",
      "   1. Mr. Brightside - The Killers\n",
      "   2. Wonderwall - Oasis\n",
      "   3. Come as You Are - Nirvana\n",
      "----------------------------------------\n",
      "Emotion: Surprise\n",
      "Target music tags: ['surprise', 'electronic', 'trance', 'experimental', 'energetic']\n",
      "\n",
      "Songs for Surprise:\n",
      "   1. Use Somebody - Kings of Leon\n",
      "   2. Can't Stop - Red Hot Chili Peppers\n",
      "   3. Sympathy for the Devil - The Rolling Stones\n",
      "----------------------------------------\n",
      "Emotion: Neutral\n",
      "Target music tags: ['disgust', 'alternative', 'grunge', 'dark', 'raw']\n",
      "No genre matches found, using random songs\n",
      "\n",
      "Songs for Neutral:\n",
      "   1. Mr. Brightside - The Killers\n",
      "   2. Wonderwall - Oasis\n",
      "   3. Come as You Are - Nirvana\n",
      "----------------------------------------\n"
     ]
    }
   ],
   "source": [
    "print(\"TESTING MORE EMOTIONS:\")\n",
    "print(\"=\" * 40)\n",
    "\n",
    "for i in range(3, 7):  # Test remaining emotions\n",
    "    recommendations = recommender.recommend_for_emotion(i, 3)\n",
    "    \n",
    "    print(f\"\\nSongs for {emotion_names[i]}:\")\n",
    "    for j, song in enumerate(recommendations, 1):\n",
    "        title = song.get('name', 'Unknown Title')\n",
    "        artist = song.get('artist', 'Unknown Artist')\n",
    "        \n",
    "        print(f\"   {j}. {title} - {artist}\")\n",
    "    print(\"-\" * 40)"
   ]
  },
  {
   "cell_type": "code",
   "execution_count": 38,
   "id": "e006709e",
   "metadata": {},
   "outputs": [
    {
     "name": "stdout",
     "output_type": "stream",
     "text": [
      "GENERATING RECOMMENDATIONS:\n",
      "Emotion: Angry\n",
      "Target music tags: ['sad', 'acoustic', 'calm', 'melancholic', 'piano']\n",
      "No genre matches found, using random songs\n",
      "Emotion: Angry\n",
      "Target music tags: ['sad', 'acoustic', 'calm', 'melancholic', 'piano']\n",
      "No genre matches found, using random songs\n",
      "Emotion: Angry\n",
      "Target music tags: ['sad', 'acoustic', 'calm', 'melancholic', 'piano']\n",
      "No genre matches found, using random songs\n",
      "Emotion: Angry\n",
      "Target music tags: ['sad', 'acoustic', 'calm', 'melancholic', 'piano']\n",
      "No genre matches found, using random songs\n",
      "Emotion: Angry\n",
      "Target music tags: ['sad', 'acoustic', 'calm', 'melancholic', 'piano']\n",
      "No genre matches found, using random songs\n",
      "Emotion: Angry\n",
      "Target music tags: ['sad', 'acoustic', 'calm', 'melancholic', 'piano']\n",
      "No genre matches found, using random songs\n",
      "Emotion: Angry\n",
      "Target music tags: ['sad', 'acoustic', 'calm', 'melancholic', 'piano']\n",
      "No genre matches found, using random songs\n",
      "Emotion: Angry\n",
      "Target music tags: ['sad', 'acoustic', 'calm', 'melancholic', 'piano']\n",
      "No genre matches found, using random songs\n",
      "Emotion: Angry\n",
      "Target music tags: ['sad', 'acoustic', 'calm', 'melancholic', 'piano']\n",
      "No genre matches found, using random songs\n",
      "Emotion: Angry\n",
      "Target music tags: ['sad', 'acoustic', 'calm', 'melancholic', 'piano']\n",
      "No genre matches found, using random songs\n",
      "Emotion: Angry\n",
      "Target music tags: ['sad', 'acoustic', 'calm', 'melancholic', 'piano']\n",
      "No genre matches found, using random songs\n",
      "Emotion: Angry\n",
      "Target music tags: ['sad', 'acoustic', 'calm', 'melancholic', 'piano']\n",
      "No genre matches found, using random songs\n",
      "Emotion: Angry\n",
      "Target music tags: ['sad', 'acoustic', 'calm', 'melancholic', 'piano']\n",
      "No genre matches found, using random songs\n",
      "Emotion: Angry\n",
      "Target music tags: ['sad', 'acoustic', 'calm', 'melancholic', 'piano']\n",
      "No genre matches found, using random songs\n",
      "Emotion: Angry\n",
      "Target music tags: ['sad', 'acoustic', 'calm', 'melancholic', 'piano']\n",
      "No genre matches found, using random songs\n",
      "Emotion: Angry\n",
      "Target music tags: ['sad', 'acoustic', 'calm', 'melancholic', 'piano']\n",
      "No genre matches found, using random songs\n",
      "Emotion: Angry\n",
      "Target music tags: ['sad', 'acoustic', 'calm', 'melancholic', 'piano']\n",
      "No genre matches found, using random songs\n",
      "Emotion: Angry\n",
      "Target music tags: ['sad', 'acoustic', 'calm', 'melancholic', 'piano']\n",
      "No genre matches found, using random songs\n",
      "Emotion: Angry\n",
      "Target music tags: ['sad', 'acoustic', 'calm', 'melancholic', 'piano']\n",
      "No genre matches found, using random songs\n",
      "Emotion: Angry\n",
      "Target music tags: ['sad', 'acoustic', 'calm', 'melancholic', 'piano']\n",
      "No genre matches found, using random songs\n",
      "Generated 40 recommendations!\n"
     ]
    }
   ],
   "source": [
    "print(\"GENERATING RECOMMENDATIONS:\")\n",
    "all_recommendations = []\n",
    "\n",
    "for i, emotion_idx in enumerate(emotion_predictions[:20]):\n",
    "    songs = recommender.recommend_for_emotion(emotion_idx, 2)\n",
    "    for song in songs:\n",
    "        all_recommendations.append({\n",
    "            'test_image_id': i,\n",
    "            'predicted_emotion': emotion_names[emotion_idx],\n",
    "            'song_title': song.get('name', 'Unknown'),\n",
    "            'artist': song.get('artist', 'Unknown'),\n",
    "            'genre': song.get('genre', 'Unknown')\n",
    "        })\n",
    "\n",
    "print(f\"Generated {len(all_recommendations)} recommendations!\")"
   ]
  },
  {
   "cell_type": "code",
   "execution_count": 39,
   "id": "14dd8817",
   "metadata": {},
   "outputs": [
    {
     "name": "stdout",
     "output_type": "stream",
     "text": [
      "Music recommendations saved as: data/music_recommendations.csv\n",
      "Sample recommendations:\n"
     ]
    },
    {
     "data": {
      "text/html": [
       "<div>\n",
       "<style scoped>\n",
       "    .dataframe tbody tr th:only-of-type {\n",
       "        vertical-align: middle;\n",
       "    }\n",
       "\n",
       "    .dataframe tbody tr th {\n",
       "        vertical-align: top;\n",
       "    }\n",
       "\n",
       "    .dataframe thead th {\n",
       "        text-align: right;\n",
       "    }\n",
       "</style>\n",
       "<table border=\"1\" class=\"dataframe\">\n",
       "  <thead>\n",
       "    <tr style=\"text-align: right;\">\n",
       "      <th></th>\n",
       "      <th>test_image_id</th>\n",
       "      <th>predicted_emotion</th>\n",
       "      <th>song_title</th>\n",
       "      <th>artist</th>\n",
       "      <th>genre</th>\n",
       "    </tr>\n",
       "  </thead>\n",
       "  <tbody>\n",
       "    <tr>\n",
       "      <th>0</th>\n",
       "      <td>0</td>\n",
       "      <td>Angry</td>\n",
       "      <td>Mr. Brightside</td>\n",
       "      <td>The Killers</td>\n",
       "      <td>Unknown</td>\n",
       "    </tr>\n",
       "    <tr>\n",
       "      <th>1</th>\n",
       "      <td>0</td>\n",
       "      <td>Angry</td>\n",
       "      <td>Wonderwall</td>\n",
       "      <td>Oasis</td>\n",
       "      <td>Unknown</td>\n",
       "    </tr>\n",
       "    <tr>\n",
       "      <th>2</th>\n",
       "      <td>1</td>\n",
       "      <td>Angry</td>\n",
       "      <td>Mr. Brightside</td>\n",
       "      <td>The Killers</td>\n",
       "      <td>Unknown</td>\n",
       "    </tr>\n",
       "    <tr>\n",
       "      <th>3</th>\n",
       "      <td>1</td>\n",
       "      <td>Angry</td>\n",
       "      <td>Wonderwall</td>\n",
       "      <td>Oasis</td>\n",
       "      <td>Unknown</td>\n",
       "    </tr>\n",
       "    <tr>\n",
       "      <th>4</th>\n",
       "      <td>2</td>\n",
       "      <td>Angry</td>\n",
       "      <td>Mr. Brightside</td>\n",
       "      <td>The Killers</td>\n",
       "      <td>Unknown</td>\n",
       "    </tr>\n",
       "    <tr>\n",
       "      <th>5</th>\n",
       "      <td>2</td>\n",
       "      <td>Angry</td>\n",
       "      <td>Wonderwall</td>\n",
       "      <td>Oasis</td>\n",
       "      <td>Unknown</td>\n",
       "    </tr>\n",
       "    <tr>\n",
       "      <th>6</th>\n",
       "      <td>3</td>\n",
       "      <td>Angry</td>\n",
       "      <td>Mr. Brightside</td>\n",
       "      <td>The Killers</td>\n",
       "      <td>Unknown</td>\n",
       "    </tr>\n",
       "    <tr>\n",
       "      <th>7</th>\n",
       "      <td>3</td>\n",
       "      <td>Angry</td>\n",
       "      <td>Wonderwall</td>\n",
       "      <td>Oasis</td>\n",
       "      <td>Unknown</td>\n",
       "    </tr>\n",
       "    <tr>\n",
       "      <th>8</th>\n",
       "      <td>4</td>\n",
       "      <td>Angry</td>\n",
       "      <td>Mr. Brightside</td>\n",
       "      <td>The Killers</td>\n",
       "      <td>Unknown</td>\n",
       "    </tr>\n",
       "    <tr>\n",
       "      <th>9</th>\n",
       "      <td>4</td>\n",
       "      <td>Angry</td>\n",
       "      <td>Wonderwall</td>\n",
       "      <td>Oasis</td>\n",
       "      <td>Unknown</td>\n",
       "    </tr>\n",
       "  </tbody>\n",
       "</table>\n",
       "</div>"
      ],
      "text/plain": [
       "   test_image_id predicted_emotion      song_title       artist    genre\n",
       "0              0             Angry  Mr. Brightside  The Killers  Unknown\n",
       "1              0             Angry      Wonderwall        Oasis  Unknown\n",
       "2              1             Angry  Mr. Brightside  The Killers  Unknown\n",
       "3              1             Angry      Wonderwall        Oasis  Unknown\n",
       "4              2             Angry  Mr. Brightside  The Killers  Unknown\n",
       "5              2             Angry      Wonderwall        Oasis  Unknown\n",
       "6              3             Angry  Mr. Brightside  The Killers  Unknown\n",
       "7              3             Angry      Wonderwall        Oasis  Unknown\n",
       "8              4             Angry  Mr. Brightside  The Killers  Unknown\n",
       "9              4             Angry      Wonderwall        Oasis  Unknown"
      ]
     },
     "execution_count": 39,
     "metadata": {},
     "output_type": "execute_result"
    }
   ],
   "source": [
    "recommendations_df = pd.DataFrame(all_recommendations)\n",
    "recommendations_df.to_csv(\"data/music_recommendations.csv\", index=False)\n",
    "\n",
    "print(\"Music recommendations saved as: data/music_recommendations.csv\")\n",
    "print(\"Sample recommendations:\")\n",
    "recommendations_df.head(10)"
   ]
  },
  {
   "cell_type": "code",
   "execution_count": null,
   "id": "a513afe7",
   "metadata": {},
   "outputs": [],
   "source": []
  }
 ],
 "metadata": {
  "kernelspec": {
   "display_name": "base",
   "language": "python",
   "name": "python3"
  },
  "language_info": {
   "codemirror_mode": {
    "name": "ipython",
    "version": 3
   },
   "file_extension": ".py",
   "mimetype": "text/x-python",
   "name": "python",
   "nbconvert_exporter": "python",
   "pygments_lexer": "ipython3",
   "version": "3.11.7"
  }
 },
 "nbformat": 4,
 "nbformat_minor": 5
}

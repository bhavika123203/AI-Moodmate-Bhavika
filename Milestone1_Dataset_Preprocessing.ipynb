{
 "cells": [
  {
   "cell_type": "code",
   "execution_count": 2,
   "id": "42285cf7",
   "metadata": {},
   "outputs": [],
   "source": [
    "import os\n",
    "import cv2\n",
    "import numpy as np\n",
    "import matplotlib.pyplot as plt\n",
    "import pandas as pd\n"
   ]
  },
  {
   "cell_type": "code",
   "execution_count": 3,
   "id": "5afcfc3f",
   "metadata": {},
   "outputs": [],
   "source": [
    "train_path = r\"D:\\DS Projects\\MoodMate-Project\\data\\raw\\fer2013_images\\train\"\n",
    "test_path = r\"D:\\DS Projects\\MoodMate-Project\\data\\raw\\fer2013_images\\test\"\n",
    "\n",
    "# Music dataset CSV path\n",
    "music_path = r\"D:\\DS Projects\\MoodMate-Project\\data\\raw\\music_dataset\\Music Info.csv\"\n",
    "\n"
   ]
  },
  {
   "cell_type": "code",
   "execution_count": 4,
   "id": "e9aa4d6c",
   "metadata": {},
   "outputs": [
    {
     "name": "stdout",
     "output_type": "stream",
     "text": [
      "Emotion classes: ['angry', 'disgust', 'fear', 'happy', 'neutral', 'sad', 'surprise']\n",
      "angry: 3995 images\n",
      "disgust: 436 images\n",
      "fear: 4097 images\n",
      "happy: 7215 images\n",
      "neutral: 4965 images\n",
      "sad: 4830 images\n",
      "surprise: 3171 images\n"
     ]
    }
   ],
   "source": [
    "# Emotion classes in train folder\n",
    "classes = sorted(os.listdir(train_path))\n",
    "print(\"Emotion classes:\", classes)\n",
    "\n",
    "# किती images आहेत प्रत्येक class मध्ये\n",
    "for emotion in classes:\n",
    "    num_images = len(os.listdir(os.path.join(train_path, emotion)))\n",
    "    print(f\"{emotion}: {num_images} images\")\n"
   ]
  },
  {
   "cell_type": "code",
   "execution_count": 6,
   "id": "601ac80e",
   "metadata": {},
   "outputs": [
    {
     "name": "stdout",
     "output_type": "stream",
     "text": [
      "Train data shape: (28709, 48, 48, 1) (28709,)\n"
     ]
    }
   ],
   "source": [
    "X_train, y_train = [], []\n",
    "classes = sorted(os.listdir(train_path))  # Emotion classes sorted\n",
    "\n",
    "for idx, emotion in enumerate(classes):\n",
    "    emotion_path = os.path.join(train_path, emotion)\n",
    "    for img_name in os.listdir(emotion_path):\n",
    "        img_path = os.path.join(emotion_path, img_name)\n",
    "        img = cv2.imread(img_path, cv2.IMREAD_GRAYSCALE)  # grayscale\n",
    "        img = img / 255.0  # normalize\n",
    "        X_train.append(img.reshape(48,48,1))\n",
    "        y_train.append(idx)\n",
    "\n",
    "X_train = np.array(X_train)\n",
    "y_train = np.array(y_train)\n",
    "\n",
    "print(\"Train data shape:\", X_train.shape, y_train.shape)\n"
   ]
  },
  {
   "cell_type": "code",
   "execution_count": null,
   "id": "51212a69",
   "metadata": {},
   "outputs": [],
   "source": [
    "X_test, y_test = [], []\n",
    "\n",
    "for idx, emotion in enumerate(classes):\n",
    "    emotion_path = os.path.join(test_path, emotion)\n",
    "    for img_name in os.listdir(emotion_path):\n",
    "        img_path = os.path.join(emotion_path, img_name)\n",
    "        img = cv2.imread(img_path, cv2.IMREAD_GRAYSCALE)\n",
    "        img = img / 255.0\n",
    "        X_test.append(img.reshape(48,48,1))\n",
    "        y_test.append(idx)\n",
    "\n",
    "X_test = np.array(X_test)\n",
    "y_test = np.array(y_test)\n",
    "\n",
    "print(\"Test data shape:\", X_test.shape, y_test.shape)\n"
   ]
  },
  {
   "cell_type": "code",
   "execution_count": null,
   "id": "c39bb7e7",
   "metadata": {},
   "outputs": [],
   "source": [
    "plt.imshow(X_train[0].reshape(48,48), cmap='gray')\n",
    "plt.title(f\"Label: {y_train[0]}\")\n",
    "plt.show()\n"
   ]
  },
  {
   "cell_type": "code",
   "execution_count": null,
   "id": "3c7d2cd5",
   "metadata": {},
   "outputs": [],
   "source": [
    "music = pd.read_csv(music_path)\n",
    "print(\"Music dataset shape:\", music.shape)\n",
    "music.head()\n"
   ]
  },
  {
   "cell_type": "code",
   "execution_count": null,
   "id": "4fcf2535",
   "metadata": {},
   "outputs": [],
   "source": [
    "music_features = music[['track_id','title','artist_name','year']]\n",
    "music_features.to_csv(\"music_features.csv\", index=False)\n",
    "music_features.head()\n"
   ]
  },
  {
   "cell_type": "code",
   "execution_count": null,
   "id": "28af7840",
   "metadata": {},
   "outputs": [],
   "source": [
    "emotion_to_music = {\n",
    "    0: [\"sad\", \"acoustic\", \"calm\"],   # Sad\n",
    "    1: [\"happy\", \"pop\", \"dance\"],     # Happy\n",
    "    2: [\"angry\", \"rock\", \"metal\"],    # Angry\n",
    "    3: [\"neutral\", \"instrumental\"],   # Neutral\n",
    "    4: [\"fear\", \"ambient\"],           # Fear\n",
    "    5: [\"surprise\", \"electronic\"],    # Surprise\n",
    "    6: [\"disgust\", \"dark\", \"grunge\"]  # Disgust\n",
    "}\n",
    "\n",
    "emotion_to_music\n"
   ]
  },
  {
   "cell_type": "code",
   "execution_count": null,
   "id": "eff59979",
   "metadata": {},
   "outputs": [],
   "source": [
    "np.save(\"X_train.npy\", X_train)\n",
    "np.save(\"y_train.npy\", y_train)\n",
    "np.save(\"X_test.npy\", X_test)\n",
    "np.save(\"y_test.npy\", y_test)\n"
   ]
  }
 ],
 "metadata": {
  "kernelspec": {
   "display_name": "Python 3 (ipykernel)",
   "language": "python",
   "name": "python3"
  },
  "language_info": {
   "codemirror_mode": {
    "name": "ipython",
    "version": 3
   },
   "file_extension": ".py",
   "mimetype": "text/x-python",
   "name": "python",
   "nbconvert_exporter": "python",
   "pygments_lexer": "ipython3",
   "version": "3.10.10"
  }
 },
 "nbformat": 4,
 "nbformat_minor": 5
}
